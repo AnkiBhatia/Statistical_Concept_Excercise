{
 "cells": [
  {
   "cell_type": "markdown",
   "metadata": {},
   "source": [
    "# Hypothesis Testing"
   ]
  },
  {
   "cell_type": "code",
   "execution_count": 1,
   "metadata": {},
   "outputs": [],
   "source": [
    "import pandas as pd\n",
    "import numpy as np\n",
    "from scipy import stats\n",
    "\n",
    "df = pd.read_csv(\"https://raw.githubusercontent.com/Data-Navigators/Statistical_Concept_Excercise/main/data/Retail_sales_dataset.csv\")"
   ]
  },
  {
   "cell_type": "markdown",
   "metadata": {},
   "source": [
    "## Hypothesis Testing: Difference in average Total Amount between male and female customers"
   ]
  },
  {
   "cell_type": "code",
   "execution_count": 2,
   "metadata": {},
   "outputs": [
    {
     "name": "stdout",
     "output_type": "stream",
     "text": [
      "1. Hypothesis Test: Difference in average Total Amount between genders\n",
      "T-statistic: -0.03161341824319852\n",
      "P-value: 0.9747866634918314\n",
      "Conclusion: Fail to reject the null hypothesis\n",
      "\n"
     ]
    }
   ],
   "source": [
    "male_amounts = df[df['Gender'] == 'Male']['Total Amount']\n",
    "female_amounts = df[df['Gender'] == 'Female']['Total Amount']\n",
    "\n",
    "t_stat, p_value = stats.ttest_ind(male_amounts, female_amounts)\n",
    "\n",
    "print(\"1. Hypothesis Test: Difference in average Total Amount between genders\")\n",
    "print(f\"T-statistic: {t_stat}\")\n",
    "print(f\"P-value: {p_value}\")\n",
    "print(f\"Conclusion: {'Reject' if p_value < 0.05 else 'Fail to reject'} the null hypothesis\")\n",
    "print()"
   ]
  },
  {
   "cell_type": "markdown",
   "metadata": {},
   "source": [
    "## Chi-square test: Relationship between Gender and Product Category"
   ]
  },
  {
   "cell_type": "markdown",
   "metadata": {},
   "source": [
    "Techniques used for Hypothesis testing with categorical variables"
   ]
  },
  {
   "cell_type": "code",
   "execution_count": null,
   "metadata": {},
   "outputs": [
    {
     "name": "stdout",
     "output_type": "stream",
     "text": [
      "Contingency Table:\n",
      "Product Category  Beauty  Clothing  Electronics\n",
      "Gender                                         \n",
      "Female               166       174          170\n",
      "Male                 141       177          172\n",
      "\n",
      "2. Chi-square Test: Relationship between Gender and Product Category\n",
      "Chi-square statistic: 1.673837085800602\n",
      "P-value: 0.43304287262068974\n",
      "Degrees of freedom: 2\n",
      "Conclusion: Fail to reject the null hypothesis\n",
      "\n"
     ]
    }
   ],
   "source": [
    "contingency_table = pd.crosstab(df['Gender'], df['Product Category'])\n",
    "chi2, p_value, dof, expected = stats.chi2_contingency(contingency_table)\n",
    "print(f\"Contingency Table:\\n{contingency_table}\\n\")\n",
    "print(\"Chi-square Test: Relationship between Gender and Product Category\")\n",
    "print(f\"Chi-square statistic: {chi2}\")\n",
    "print(f\"P-value: {p_value}\")\n",
    "print(f\"Degrees of freedom: {dof}\")\n",
    "print(f\"Conclusion: {'Reject' if p_value < 0.05 else 'Fail to reject'} the null hypothesis\")\n",
    "print()"
   ]
  },
  {
   "cell_type": "markdown",
   "metadata": {},
   "source": [
    "## T-test: Compare mean Age across two popular Product Categories"
   ]
  },
  {
   "cell_type": "code",
   "execution_count": 5,
   "metadata": {},
   "outputs": [
    {
     "name": "stdout",
     "output_type": "stream",
     "text": [
      "3. T-test: Compare mean Age across two popular Product Categories\n",
      "Comparing Clothing and Electronics\n",
      "T-statistic: 0.20529739367317656\n",
      "P-value: 0.837400242059152\n",
      "Conclusion: Fail to reject the null hypothesis\n"
     ]
    }
   ],
   "source": [
    "top_categories = df['Product Category'].value_counts().nlargest(2).index\n",
    "\n",
    "category1_ages = df[df['Product Category'] == top_categories[0]]['Age']\n",
    "category2_ages = df[df['Product Category'] == top_categories[1]]['Age']\n",
    "\n",
    "t_stat, p_value = stats.ttest_ind(category1_ages, category2_ages)\n",
    "\n",
    "print(\"3. T-test: Compare mean Age across two popular Product Categories\")\n",
    "print(f\"Comparing {top_categories[0]} and {top_categories[1]}\")\n",
    "print(f\"T-statistic: {t_stat}\")\n",
    "print(f\"P-value: {p_value}\")\n",
    "print(f\"Conclusion: {'Reject' if p_value < 0.05 else 'Fail to reject'} the null hypothesis\")"
   ]
  }
 ],
 "metadata": {
  "kernelspec": {
   "display_name": "datasimulator",
   "language": "python",
   "name": "python3"
  },
  "language_info": {
   "codemirror_mode": {
    "name": "ipython",
    "version": 3
   },
   "file_extension": ".py",
   "mimetype": "text/x-python",
   "name": "python",
   "nbconvert_exporter": "python",
   "pygments_lexer": "ipython3",
   "version": "3.11.1"
  }
 },
 "nbformat": 4,
 "nbformat_minor": 2
}
