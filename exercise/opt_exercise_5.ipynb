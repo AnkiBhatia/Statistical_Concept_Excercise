{
 "cells": [
  {
   "cell_type": "markdown",
   "metadata": {},
   "source": [
    "# Multiple Linear Regression"
   ]
  },
  {
   "cell_type": "markdown",
   "metadata": {},
   "source": [
    "##  Task:\n",
    "Predict the Total Amount spent by a customer based on features like Quantity, Price per Unit, Age, Gender, and Product Category."
   ]
  },
  {
   "cell_type": "markdown",
   "metadata": {},
   "source": [
    "### Q1: How do we set up a multiple linear regression model to predict Total Amount?\n",
    "Instructions:\n",
    "\n",
    "Use Quantity, Price per Unit, Age, Gender, and Product Category to predict the Total Amount.\n",
    "\n",
    "Perform regression using Python and interpret the coefficients."
   ]
  },
  {
   "cell_type": "code",
   "execution_count": 68,
   "metadata": {},
   "outputs": [],
   "source": [
    "import pandas as pd\n",
    "import statsmodels.api as sm\n",
    "import numpy as np\n",
    "# Load the dataset\n",
    "df = pd.read_csv(\"https://raw.githubusercontent.com/Data-Navigators/Statistical_Concept_Excercise/main/data/Retail_sales_dataset.csv\")\n"
   ]
  },
  {
   "cell_type": "code",
   "execution_count": 71,
   "metadata": {},
   "outputs": [
    {
     "name": "stdout",
     "output_type": "stream",
     "text": [
      "\n",
      "Missing values:\n",
      "Transaction ID      0\n",
      "Date                0\n",
      "Customer ID         0\n",
      "Gender              0\n",
      "Age                 0\n",
      "Product Category    0\n",
      "Quantity            0\n",
      "Price per Unit      0\n",
      "Total Amount        0\n",
      "dtype: int64\n"
     ]
    }
   ],
   "source": [
    "df['Date'] = pd.to_datetime(df['Date'])\n",
    "\n",
    "# Check for missing values\n",
    "print(\"\\nMissing values:\")\n",
    "print(df.isnull().sum())\n",
    "\n",
    "# Rename 'Product Category' to 'Product_Category'\n",
    "df = df.rename(columns={'Product Category': 'Product_Category'})\n",
    "\n",
    "# Re-apply one-hot encoding, ensuring all categories are represented\n",
    "df = pd.get_dummies(df, columns=['Gender', 'Product_Category'], drop_first=False, dtype=int)"
   ]
  },
  {
   "cell_type": "code",
   "execution_count": 72,
   "metadata": {},
   "outputs": [],
   "source": [
    "# Define all possible categories for Gender and Product_Category\n",
    "possible_genders = ['Male', 'Female']\n",
    "possible_categories = ['Clothing', 'Electronics', 'Beauty']\n",
    "\n",
    "\n",
    "\n",
    "# Add missing columns if they don't exist (set them to 0)\n",
    "for gender in possible_genders:\n",
    "    col_name = f\"Gender_{gender}\"\n",
    "    if col_name not in df.columns:\n",
    "        df[col_name] = 0\n",
    "\n",
    "for category in possible_categories:\n",
    "    col_name = f\"Product_Category_{category}\"\n",
    "    if col_name not in df.columns:\n",
    "        df[col_name] = 0\n",
    "\n",
    "# Now, your dataset should have allpossible categories encoded"
   ]
  },
  {
   "cell_type": "code",
   "execution_count": 73,
   "metadata": {},
   "outputs": [
    {
     "name": "stdout",
     "output_type": "stream",
     "text": [
      "                            OLS Regression Results                            \n",
      "==============================================================================\n",
      "Dep. Variable:           Total Amount   R-squared:                       0.855\n",
      "Model:                            OLS   Adj. R-squared:                  0.854\n",
      "Method:                 Least Squares   F-statistic:                     976.4\n",
      "Date:                Sun, 20 Oct 2024   Prob (F-statistic):               0.00\n",
      "Time:                        01:41:51   Log-Likelihood:                -6780.6\n",
      "No. Observations:                1000   AIC:                         1.358e+04\n",
      "Df Residuals:                     993   BIC:                         1.361e+04\n",
      "Df Model:                           6                                         \n",
      "Covariance Type:            nonrobust                                         \n",
      "================================================================================================\n",
      "                                   coef    std err          t      P>|t|      [0.025      0.975]\n",
      "------------------------------------------------------------------------------------------------\n",
      "const                         -221.1526     14.977    -14.766      0.000    -250.543    -191.763\n",
      "Quantity                       177.4215      5.979     29.673      0.000     165.688     189.155\n",
      "Price per Unit                   2.4941      0.036     69.849      0.000       2.424       2.564\n",
      "Age                             -0.7988      0.496     -1.612      0.107      -1.771       0.174\n",
      "Gender_Male                   -104.9903     10.046    -10.451      0.000    -124.705     -85.276\n",
      "Gender_Female                 -116.1623     10.146    -11.449      0.000    -136.072     -96.252\n",
      "Product_Category_Clothing      -78.1433     10.790     -7.242      0.000     -99.318     -56.969\n",
      "Product_Category_Electronics   -70.2928     10.752     -6.538      0.000     -91.392     -49.194\n",
      "Product_Category_Beauty        -72.7165     10.897     -6.673      0.000     -94.101     -51.332\n",
      "==============================================================================\n",
      "Omnibus:                        0.995   Durbin-Watson:                   1.983\n",
      "Prob(Omnibus):                  0.608   Jarque-Bera (JB):                0.880\n",
      "Skew:                          -0.063   Prob(JB):                        0.644\n",
      "Kurtosis:                       3.072   Cond. No.                     1.04e+18\n",
      "==============================================================================\n",
      "\n",
      "Notes:\n",
      "[1] Standard Errors assume that the covariance matrix of the errors is correctly specified.\n",
      "[2] The smallest eigenvalue is 6.39e-29. This might indicate that there are\n",
      "strong multicollinearity problems or that the design matrix is singular.\n",
      "\n",
      "Coefficients:\n",
      "const: -221.1526\n",
      "Quantity: 177.4215\n",
      "Price per Unit: 2.4941\n",
      "Age: -0.7988\n",
      "Gender_Male: -104.9903\n",
      "Gender_Female: -116.1623\n",
      "Product_Category_Clothing: -78.1433\n",
      "Product_Category_Electronics: -70.2928\n",
      "Product_Category_Beauty: -72.7165\n"
     ]
    }
   ],
   "source": [
    "X = df[['Quantity', 'Price per Unit', 'Age', 'Gender_Male', 'Gender_Female', \n",
    "        'Product_Category_Clothing', 'Product_Category_Electronics', \n",
    "        'Product_Category_Beauty']]\n",
    "\n",
    "y = df['Total Amount']\n",
    "\n",
    "# Add constant to the model\n",
    "X = sm.add_constant(X)\n",
    "\n",
    "# Fit the multiple linear regression model\n",
    "model = sm.OLS(y, X).fit()\n",
    "\n",
    "# Print model summary\n",
    "print(model.summary())\n",
    "\n",
    "# Print coefficients with more readable format\n",
    "print(\"\\nCoefficients:\")\n",
    "for name, coef in zip(X.columns, model.params):\n",
    "    print(f\"{name}: {coef:.4f}\")"
   ]
  },
  {
   "cell_type": "markdown",
   "metadata": {},
   "source": [
    "### Q2: How do we interpret the regression coefficients?"
   ]
  },
  {
   "cell_type": "markdown",
   "metadata": {},
   "source": [
    "### Q3: What does Adjusted R-Squared tell us?"
   ]
  },
  {
   "cell_type": "markdown",
   "metadata": {},
   "source": [
    "### Q4: How can we calculate RMSE and MAE to evaluate the model’s performance?\n",
    "\n",
    "Instructions:\n",
    "\n",
    "Use the model to make predictions.\n",
    "\n",
    "Calculate Root Mean Squared Error (RMSE) and Mean Absolute Error (MAE) to measure prediction error."
   ]
  },
  {
   "cell_type": "code",
   "execution_count": 74,
   "metadata": {},
   "outputs": [
    {
     "name": "stdout",
     "output_type": "stream",
     "text": [
      "RMSE: 213.08\n",
      "MAE: 175.51\n"
     ]
    }
   ],
   "source": [
    "from sklearn.metrics import mean_squared_error, mean_absolute_error\n",
    "import numpy as np\n",
    "\n",
    "# Predict Total Amount\n",
    "y_pred = model.predict(X)\n",
    "\n",
    "# Calculate RMSE\n",
    "rmse = np.sqrt(mean_squared_error(y, y_pred))\n",
    "print(f\"RMSE: {rmse:.2f}\")\n",
    "\n",
    "# Calculate MAE\n",
    "mae = mean_absolute_error(y, y_pred)\n",
    "print(f\"MAE: {mae:.2f}\")\n"
   ]
  },
  {
   "cell_type": "markdown",
   "metadata": {},
   "source": [
    "### Q5: How do we check for multicollinearity in this dataset?"
   ]
  },
  {
   "cell_type": "code",
   "execution_count": 75,
   "metadata": {},
   "outputs": [
    {
     "name": "stdout",
     "output_type": "stream",
     "text": [
      "                        Feature       VIF\n",
      "0                         const  0.000000\n",
      "1                      Quantity  1.002227\n",
      "2                Price per Unit  1.002204\n",
      "3                           Age  1.004486\n",
      "4                   Gender_Male       inf\n",
      "5                 Gender_Female       inf\n",
      "6     Product_Category_Clothing       inf\n",
      "7  Product_Category_Electronics       inf\n",
      "8       Product_Category_Beauty       inf\n"
     ]
    },
    {
     "name": "stderr",
     "output_type": "stream",
     "text": [
      "/Users/samvardhan/miniconda3/envs/data_explorer_env/lib/python3.8/site-packages/statsmodels/regression/linear_model.py:1782: RuntimeWarning: divide by zero encountered in scalar divide\n",
      "  return 1 - self.ssr/self.centered_tss\n",
      "/Users/samvardhan/miniconda3/envs/data_explorer_env/lib/python3.8/site-packages/statsmodels/stats/outliers_influence.py:198: RuntimeWarning: divide by zero encountered in scalar divide\n",
      "  vif = 1. / (1. - r_squared_i)\n"
     ]
    }
   ],
   "source": [
    "from statsmodels.stats.outliers_influence import variance_inflation_factor\n",
    "\n",
    "# Calculate VIF for each feature\n",
    "vif_data = pd.DataFrame()\n",
    "vif_data[\"Feature\"] = X.columns\n",
    "vif_data[\"VIF\"] = [variance_inflation_factor(X.values, i) for i in range(X.shape[1])]\n",
    "\n",
    "print(vif_data)"
   ]
  }
 ],
 "metadata": {
  "kernelspec": {
   "display_name": "data_explorer_env",
   "language": "python",
   "name": "python3"
  },
  "language_info": {
   "codemirror_mode": {
    "name": "ipython",
    "version": 3
   },
   "file_extension": ".py",
   "mimetype": "text/x-python",
   "name": "python",
   "nbconvert_exporter": "python",
   "pygments_lexer": "ipython3",
   "version": "3.8.20"
  }
 },
 "nbformat": 4,
 "nbformat_minor": 2
}
