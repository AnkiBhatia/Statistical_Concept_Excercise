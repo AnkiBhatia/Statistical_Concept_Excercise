{
 "cells": [
  {
   "cell_type": "markdown",
   "metadata": {},
   "source": [
    "# Logistic Regression"
   ]
  },
  {
   "cell_type": "markdown",
   "metadata": {},
   "source": [
    "### Task Overview\n",
    "\n",
    "Build a logistic regression model to classify transactions as high-value based on selected features."
   ]
  },
  {
   "cell_type": "code",
   "execution_count": 4,
   "metadata": {},
   "outputs": [],
   "source": [
    "import pandas as pd\n",
    "from sklearn.model_selection import train_test_split\n",
    "from sklearn.linear_model import LogisticRegression\n",
    "from sklearn.metrics import classification_report, roc_auc_score\n",
    "\n",
    "# Load the dataset\n",
    "df = pd.read_csv(\"https://raw.githubusercontent.com/Data-Navigators/Statistical_Concept_Excercise/main/data/Retail_sales_dataset.csv\")"
   ]
  },
  {
   "cell_type": "code",
   "execution_count": 5,
   "metadata": {},
   "outputs": [
    {
     "name": "stdout",
     "output_type": "stream",
     "text": [
      "\n",
      "Missing values:\n",
      "Transaction ID      0\n",
      "Date                0\n",
      "Customer ID         0\n",
      "Gender              0\n",
      "Age                 0\n",
      "Product Category    0\n",
      "Quantity            0\n",
      "Price per Unit      0\n",
      "Total Amount        0\n",
      "dtype: int64\n"
     ]
    }
   ],
   "source": [
    "df['Date'] = pd.to_datetime(df['Date'])\n",
    "\n",
    "# Check for missing values\n",
    "print(\"\\nMissing values:\")\n",
    "print(df.isnull().sum())\n",
    "\n",
    "# Rename 'Product Category' to 'Product_Category'\n",
    "df = df.rename(columns={'Product Category': 'Product_Category'})\n",
    "\n",
    "# Re-apply one-hot encoding, ensuring all categories are represented\n",
    "df = pd.get_dummies(df, columns=['Gender', 'Product_Category'], drop_first=False, dtype=int)"
   ]
  },
  {
   "cell_type": "code",
   "execution_count": 12,
   "metadata": {},
   "outputs": [
    {
     "name": "stdout",
     "output_type": "stream",
     "text": [
      "Available columns: Index(['Transaction ID', 'Date', 'Customer ID', 'Age', 'Quantity',\n",
      "       'Price per Unit', 'Total Amount', 'Gender_Female', 'Gender_Male',\n",
      "       'Product_Category_Beauty', 'Product_Category_Clothing',\n",
      "       'Product_Category_Electronics', 'HighValue'],\n",
      "      dtype='object')\n",
      "Warning: 'Gender' or 'Product_Category' columns not found. Skipping one-hot encoding.\n",
      "              precision    recall  f1-score   support\n",
      "\n",
      "           0       1.00      1.00      1.00       170\n",
      "           1       1.00      1.00      1.00        30\n",
      "\n",
      "    accuracy                           1.00       200\n",
      "   macro avg       1.00      1.00      1.00       200\n",
      "weighted avg       1.00      1.00      1.00       200\n",
      "\n",
      "ROC-AUC Score: 1.0000\n",
      "\n",
      "Coefficients:\n",
      "Age: -0.0355\n",
      "Quantity: 4.1173\n",
      "Price per Unit: 0.0226\n",
      "Gender_Female: 0.2008\n",
      "Gender_Male: 0.1171\n",
      "Product_Category_Beauty: 0.6149\n",
      "Product_Category_Clothing: -0.4047\n",
      "Product_Category_Electronics: 0.1077\n"
     ]
    },
    {
     "name": "stderr",
     "output_type": "stream",
     "text": [
      "/Users/samvardhan/miniconda3/envs/data_explorer_env/lib/python3.8/site-packages/sklearn/linear_model/_logistic.py:460: ConvergenceWarning: lbfgs failed to converge (status=1):\n",
      "STOP: TOTAL NO. of ITERATIONS REACHED LIMIT.\n",
      "\n",
      "Increase the number of iterations (max_iter) or scale the data as shown in:\n",
      "    https://scikit-learn.org/stable/modules/preprocessing.html\n",
      "Please also refer to the documentation for alternative solver options:\n",
      "    https://scikit-learn.org/stable/modules/linear_model.html#logistic-regression\n",
      "  n_iter_i = _check_optimize_result(\n"
     ]
    }
   ],
   "source": [
    "# Define target variable: HighValue (1 if Total Amount > 80th percentile, else 0)\n",
    "threshold = df['Total Amount'].quantile(0.80)\n",
    "df['HighValue'] = (df['Total Amount'] > threshold).astype(int)\n",
    "\n",
    "# Check available columns\n",
    "print(\"Available columns:\", df.columns)\n",
    "\n",
    "# One-hot encode categorical variables (only if they exist)\n",
    "if 'Gender' in df.columns and 'Product_Category' in df.columns:\n",
    "    df = pd.get_dummies(df, columns=['Gender', 'Product_Category'], drop_first=False, dtype=int)\n",
    "else:\n",
    "    print(\"Warning: 'Gender' or 'Product_Category' columns not found. Skipping one-hot encoding.\")\n",
    "\n",
    "# Define features and target variable\n",
    "available_features = ['Age', 'Quantity', 'Price per Unit']\n",
    "for col in df.columns:\n",
    "    if col.startswith(('Gender_', 'Product_Category_')):\n",
    "        available_features.append(col)\n",
    "\n",
    "X = df[available_features]\n",
    "y = df['HighValue']\n",
    "\n",
    "# Split the dataset\n",
    "X_train, X_test, y_train, y_test = train_test_split(X, y, test_size=0.2, random_state=42)\n",
    "\n",
    "# Create and fit the logistic regression model\n",
    "model = LogisticRegression()\n",
    "model.fit(X_train, y_train)\n",
    "\n",
    "# Make predictions\n",
    "y_pred = model.predict(X_test)\n",
    "y_pred_proba = model.predict_proba(X_test)[:, 1]\n",
    "\n",
    "# Evaluate the model\n",
    "print(classification_report(y_test, y_pred))\n",
    "print(f\"ROC-AUC Score: {roc_auc_score(y_test, y_pred_proba):.4f}\")\n",
    "\n",
    "# Print coefficients\n",
    "print(\"\\nCoefficients:\")\n",
    "for name, coef in zip(X.columns, model.coef_[0]):\n",
    "    print(f\"{name}: {coef:.4f}\")\n"
   ]
  }
 ],
 "metadata": {
  "kernelspec": {
   "display_name": "data_explorer_env",
   "language": "python",
   "name": "python3"
  },
  "language_info": {
   "codemirror_mode": {
    "name": "ipython",
    "version": 3
   },
   "file_extension": ".py",
   "mimetype": "text/x-python",
   "name": "python",
   "nbconvert_exporter": "python",
   "pygments_lexer": "ipython3",
   "version": "3.8.20"
  }
 },
 "nbformat": 4,
 "nbformat_minor": 2
}
